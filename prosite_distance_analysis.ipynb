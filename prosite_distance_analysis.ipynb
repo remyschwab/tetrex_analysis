{
 "cells": [
  {
   "cell_type": "markdown",
   "metadata": {},
   "source": [
    "# Analysis of Distances in Prosite"
   ]
  },
  {
   "cell_type": "code",
   "execution_count": 72,
   "metadata": {},
   "outputs": [],
   "source": [
    "import pandas as pd\n",
    "import seaborn as sns"
   ]
  },
  {
   "cell_type": "code",
   "execution_count": 63,
   "metadata": {},
   "outputs": [],
   "source": [
    "ptrns = pd.read_csv(\"data/PATTERNS/prosite_patterns_no_anchors.tsv\",sep=\"\\t\")"
   ]
  },
  {
   "cell_type": "code",
   "execution_count": 64,
   "metadata": {},
   "outputs": [],
   "source": [
    "def extract_min_max(quantifier, ds):\n",
    "    quantifier = quantifier.strip('x')\n",
    "    quantifier = quantifier.strip('(')\n",
    "    quantifier = quantifier.strip(')')\n",
    "    span = quantifier.split(\",\")\n",
    "    low = int(span[0])\n",
    "    high = int(span[1])\n",
    "    for d in range(low, high+1):\n",
    "        ds.append(d)"
   ]
  },
  {
   "cell_type": "code",
   "execution_count": 65,
   "metadata": {},
   "outputs": [],
   "source": [
    "def extract_distance(quantifier):\n",
    "    quantifier = quantifier.strip('x')\n",
    "    quantifier = quantifier.strip('(')\n",
    "    quantifier = quantifier.strip(')')\n",
    "    return int(quantifier)"
   ]
  },
  {
   "cell_type": "code",
   "execution_count": 66,
   "metadata": {},
   "outputs": [],
   "source": [
    "def parse_tokens(tokens, dists):\n",
    "    for tkn in tokens:\n",
    "        if 'x' in tkn:\n",
    "            if tkn == 'x':\n",
    "                dists.append(1)\n",
    "                continue\n",
    "            elif \",\" not in tkn:\n",
    "                dists.append(extract_distance(tkn))\n",
    "                continue\n",
    "            extract_min_max(tkn, dists)            "
   ]
  },
  {
   "cell_type": "code",
   "execution_count": 67,
   "metadata": {},
   "outputs": [],
   "source": [
    "distances = []\n",
    "for i, row in ptrns.iterrows():\n",
    "    ptkns = row[\"PATTERN\"].split('-')\n",
    "    parse_tokens(ptkns, distances)"
   ]
  },
  {
   "cell_type": "code",
   "execution_count": 79,
   "metadata": {},
   "outputs": [
    {
     "data": {
      "text/plain": [
       "Text(0.5, 1.0, 'Distribution of Prosite Pattern Distances')"
      ]
     },
     "execution_count": 79,
     "metadata": {},
     "output_type": "execute_result"
    },
    {
     "data": {
      "image/png": "[encoded data removed]",
      "text/plain": [
       "<Figure size 640x480 with 1 Axes>"
      ]
     },
     "metadata": {},
     "output_type": "display_data"
    }
   ],
   "source": [
    "dist_series = pd.Series(distances, name=\"Prosite Distances\")\n",
    "dist_series.plot.hist(bins=115).set_title(\"Distribution of Prosite Pattern Distances\")"
   ]
  },
  {
   "cell_type": "code",
   "execution_count": 71,
   "metadata": {},
   "outputs": [
    {
     "data": {
      "text/plain": [
       "count    5459.000000\n",
       "mean        5.032057\n",
       "std        11.255123\n",
       "min         0.000000\n",
       "25%         1.000000\n",
       "50%         2.000000\n",
       "75%         4.000000\n",
       "max       115.000000\n",
       "dtype: float64"
      ]
     },
     "execution_count": 71,
     "metadata": {},
     "output_type": "execute_result"
    }
   ],
   "source": [
    "pd.Series(distances).describe()"
   ]
  },
  {
   "cell_type": "code",
   "execution_count": 83,
   "metadata": {},
   "outputs": [
    {
     "data": {
      "text/plain": [
       "0.987909873603224"
      ]
     },
     "execution_count": 83,
     "metadata": {},
     "output_type": "execute_result"
    }
   ],
   "source": [
    "sum(dist_series.between(0, 64))/dist_series.size"
   ]
  },
  {
   "cell_type": "code",
   "execution_count": 87,
   "metadata": {},
   "outputs": [
    {
     "data": {
      "text/plain": [
       "66"
      ]
     },
     "execution_count": 87,
     "metadata": {},
     "output_type": "execute_result"
    }
   ],
   "source": [
    "sum(dist_series.between(65, 120))"
   ]
  },
  {
   "cell_type": "code",
   "execution_count": null,
   "metadata": {},
   "outputs": [],
   "source": []
  }
 ],
 "metadata": {
  "kernelspec": {
   "display_name": "base",
   "language": "python",
   "name": "python3"
  },
  "language_info": {
   "codemirror_mode": {
    "name": "ipython",
    "version": 3
   },
   "file_extension": ".py",
   "mimetype": "text/x-python",
   "name": "python",
   "nbconvert_exporter": "python",
   "pygments_lexer": "ipython3",
   "version": "3.10.9"
  }
 },
 "nbformat": 4,
 "nbformat_minor": 2
}
