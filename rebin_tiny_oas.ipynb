{
 "cells": [
  {
   "cell_type": "markdown",
   "id": "2b6f57dc",
   "metadata": {},
   "source": [
    "# Make the Bin Sizes of OAS Tiny Smaller"
   ]
  },
  {
   "cell_type": "code",
   "execution_count": 4,
   "id": "25ffa5f0",
   "metadata": {},
   "outputs": [],
   "source": [
    "import numpy as np\n",
    "import os"
   ]
  },
  {
   "cell_type": "code",
   "execution_count": 5,
   "id": "5d2da710",
   "metadata": {},
   "outputs": [],
   "source": [
    "oas_path = \"/Users/rschwab/Desktop/oasdb_tiny_20230111/Heavy/Human\"\n",
    "oas_subsets = os.listdir(oas_path)"
   ]
  },
  {
   "cell_type": "code",
   "execution_count": 6,
   "id": "f66f8921",
   "metadata": {},
   "outputs": [],
   "source": [
    "chunks = [np.load(\"{}/{}\".format(oas_path, chunk)) for chunk in oas_subsets]"
   ]
  },
  {
   "cell_type": "code",
   "execution_count": null,
   "id": "d2e7ba62",
   "metadata": {},
   "outputs": [
    {
     "ename": "NameError",
     "evalue": "name 'flat_alignments' is not defined",
     "output_type": "error",
     "traceback": [
      "\u001b[0;31m---------------------------------------------------------------------------\u001b[0m",
      "\u001b[0;31mNameError\u001b[0m                                 Traceback (most recent call last)",
      "Cell \u001b[0;32mIn[7], line 3\u001b[0m\n\u001b[1;32m      1\u001b[0m all_alignments \u001b[38;5;241m=\u001b[39m np\u001b[38;5;241m.\u001b[39mconcatenate([chunk[\u001b[38;5;124m\"\u001b[39m\u001b[38;5;124mnumberings\u001b[39m\u001b[38;5;124m\"\u001b[39m] \u001b[38;5;28;01mfor\u001b[39;00m chunk \u001b[38;5;129;01min\u001b[39;00m chunks])\n\u001b[1;32m      2\u001b[0m all_idxs \u001b[38;5;241m=\u001b[39m np\u001b[38;5;241m.\u001b[39mconcatenate([chunk[\u001b[38;5;124m\"\u001b[39m\u001b[38;5;124midxs\u001b[39m\u001b[38;5;124m\"\u001b[39m] \u001b[38;5;28;01mfor\u001b[39;00m chunk \u001b[38;5;129;01min\u001b[39;00m chunks])\n\u001b[0;32m----> 3\u001b[0m \u001b[38;5;28mlen\u001b[39m(all_idxs) \u001b[38;5;241m==\u001b[39m \u001b[38;5;28mlen\u001b[39m(\u001b[43mflat_alignments\u001b[49m)\n",
      "\u001b[0;31mNameError\u001b[0m: name 'flat_alignments' is not defined"
     ]
    }
   ],
   "source": [
    "all_alignments = np.concatenate([chunk[\"numberings\"] for chunk in chunks])\n",
    "all_idxs = np.concatenate([chunk[\"idxs\"] for chunk in chunks])\n",
    "len(all_idxs) == len(all_alignments)"
   ]
  },
  {
   "cell_type": "code",
   "execution_count": null,
   "id": "30994eaa",
   "metadata": {},
   "outputs": [],
   "source": [
    "def write_chunks_to_npz(alignments, indexes, output_dir, num_files=4096):\n",
    "    from pathlib import Path\n",
    "    \"\"\"\n",
    "    There are probably some sequences being left out of here.\n",
    "    TODO: Take care of the spillovers\n",
    "    \"\"\"\n",
    "    assert(len(alignments) == len(indexes))\n",
    "\n",
    "    output_dir = Path(output_dir)\n",
    "    output_dir.mkdir(parents=True, exist_ok=True)\n",
    "\n",
    "    total = len(alignments)\n",
    "    chunk_size = (total + num_files - 1) // num_files  # ceiling division to avoid missing items\n",
    "\n",
    "    for i in range(num_files):\n",
    "        start = i * chunk_size\n",
    "        end = min((i + 1) * chunk_size, total)\n",
    "        num_chunk = alignments[start:end]\n",
    "        idx_chunk = indexes[start:end]\n",
    "\n",
    "        # Create a dict of arrays to save in .npz\n",
    "        numberings = num_chunk\n",
    "        idxs = idx_chunk\n",
    "        file_path = output_dir / f\"chunk_{i:04d}.npz\"\n",
    "        np.savez_compressed(file_path, numberings=numberings, idxs=idxs)\n",
    "\n",
    "    print(f\"Done! Saved {min(num_files, (total + chunk_size - 1) // chunk_size)} files in {output_dir}\")\n",
    "\n"
   ]
  },
  {
   "cell_type": "code",
   "execution_count": 11,
   "id": "95ecc3d8",
   "metadata": {},
   "outputs": [
    {
     "name": "stdout",
     "output_type": "stream",
     "text": [
      "Done! Saved 4095 files in /Users/rschwab/Desktop/oasdb_tiny_4096\n"
     ]
    }
   ],
   "source": [
    "write_chunks_to_npz(all_alignments, all_idxs, \"/Users/rschwab/Desktop/oasdb_tiny_4096\")"
   ]
  },
  {
   "cell_type": "code",
   "execution_count": null,
   "id": "48045efa",
   "metadata": {},
   "outputs": [],
   "source": []
  }
 ],
 "metadata": {
  "kernelspec": {
   "display_name": "kasearch_env",
   "language": "python",
   "name": "python3"
  },
  "language_info": {
   "codemirror_mode": {
    "name": "ipython",
    "version": 3
   },
   "file_extension": ".py",
   "mimetype": "text/x-python",
   "name": "python",
   "nbconvert_exporter": "python",
   "pygments_lexer": "ipython3",
   "version": "3.8.20"
  }
 },
 "nbformat": 4,
 "nbformat_minor": 5
}
