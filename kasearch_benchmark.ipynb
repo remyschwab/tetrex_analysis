{
 "cells": [
  {
   "cell_type": "code",
   "execution_count": 7,
   "metadata": {},
   "outputs": [],
   "source": [
    "import pandas as pd\n",
    "import numpy as np\n",
    "from kasearch import EasySearch\n",
    "import gzip\n",
    "import os"
   ]
  },
  {
   "cell_type": "markdown",
   "metadata": {},
   "source": [
    "# Create PLABDAB FASTA"
   ]
  },
  {
   "cell_type": "code",
   "execution_count": 2,
   "metadata": {},
   "outputs": [],
   "source": [
    "plab = pd.read_csv(\"/Users/rschwab/Downloads/unpaired_sequences.csv\")"
   ]
  },
  {
   "cell_type": "code",
   "execution_count": 13,
   "metadata": {},
   "outputs": [],
   "source": [
    "output_fasta = open(\"plab.fasta\", 'w')"
   ]
  },
  {
   "cell_type": "code",
   "execution_count": 14,
   "metadata": {},
   "outputs": [],
   "source": [
    "for idx, row in plab.iterrows():\n",
    "    access_id = row[\"GBSeq_accession-version\"]\n",
    "    antibody_seq = row[\"GBSeq_sequence\"].upper()\n",
    "    output_fasta.write(\">{}\\n\".format(access_id))\n",
    "    output_fasta.write(antibody_seq)\n",
    "    output_fasta.write(\"\\n\")"
   ]
  },
  {
   "cell_type": "code",
   "execution_count": 15,
   "metadata": {},
   "outputs": [],
   "source": [
    "output_fasta.close()"
   ]
  },
  {
   "cell_type": "markdown",
   "metadata": {},
   "source": [
    "# Create OAS FASTA"
   ]
  },
  {
   "cell_type": "code",
   "execution_count": 35,
   "metadata": {},
   "outputs": [],
   "source": [
    "toy = pd.read_csv(\"/Users/rschwab/Desktop/rettig_2018_04_1_Heavy_IGHG.csv\", skiprows=1)"
   ]
  },
  {
   "cell_type": "code",
   "execution_count": 37,
   "metadata": {},
   "outputs": [
    {
     "data": {
      "text/plain": [
       "Index(['sequence', 'locus', 'stop_codon', 'vj_in_frame', 'v_frameshift',\n",
       "       'productive', 'rev_comp', 'complete_vdj', 'v_call', 'd_call', 'j_call',\n",
       "       'sequence_alignment', 'germline_alignment', 'sequence_alignment_aa',\n",
       "       'germline_alignment_aa', 'v_alignment_start', 'v_alignment_end',\n",
       "       'd_alignment_start', 'd_alignment_end', 'j_alignment_start',\n",
       "       'j_alignment_end', 'v_sequence_alignment', 'v_sequence_alignment_aa',\n",
       "       'v_germline_alignment', 'v_germline_alignment_aa',\n",
       "       'd_sequence_alignment', 'd_sequence_alignment_aa',\n",
       "       'd_germline_alignment', 'd_germline_alignment_aa',\n",
       "       'j_sequence_alignment', 'j_sequence_alignment_aa',\n",
       "       'j_germline_alignment', 'j_germline_alignment_aa', 'fwr1', 'fwr1_aa',\n",
       "       'cdr1', 'cdr1_aa', 'fwr2', 'fwr2_aa', 'cdr2', 'cdr2_aa', 'fwr3',\n",
       "       'fwr3_aa', 'fwr4', 'fwr4_aa', 'cdr3', 'cdr3_aa', 'junction',\n",
       "       'junction_length', 'junction_aa', 'junction_aa_length', 'v_score',\n",
       "       'd_score', 'j_score', 'v_cigar', 'd_cigar', 'j_cigar', 'v_support',\n",
       "       'd_support', 'j_support', 'v_identity', 'd_identity', 'j_identity',\n",
       "       'v_sequence_start', 'v_sequence_end', 'v_germline_start',\n",
       "       'v_germline_end', 'd_sequence_start', 'd_sequence_end',\n",
       "       'd_germline_start', 'd_germline_end', 'j_sequence_start',\n",
       "       'j_sequence_end', 'j_germline_start', 'j_germline_end', 'fwr1_start',\n",
       "       'fwr1_end', 'cdr1_start', 'cdr1_end', 'fwr2_start', 'fwr2_end',\n",
       "       'cdr2_start', 'cdr2_end', 'fwr3_start', 'fwr3_end', 'fwr4_start',\n",
       "       'fwr4_end', 'cdr3_start', 'cdr3_end', 'np1', 'np1_length', 'np2',\n",
       "       'np2_length', 'c_region', 'Redundancy', 'ANARCI_numbering',\n",
       "       'ANARCI_status'],\n",
       "      dtype='object')"
      ]
     },
     "execution_count": 37,
     "metadata": {},
     "output_type": "execute_result"
    }
   ],
   "source": [
    "toy.columns"
   ]
  },
  {
   "cell_type": "markdown",
   "metadata": {},
   "source": [
    "# Playing with KA Search"
   ]
  },
  {
   "cell_type": "code",
   "execution_count": null,
   "metadata": {},
   "outputs": [],
   "source": [
    "\n",
    "raw_queries = ['VKLLEQSGAEVKKPGASVKVSCKASGYSFTSYGLHWVRQAPGQRLEWMGWISAGTGNTKYSQKFRGRVTFTRDTSATTAYMGLSSLRPEDTAVYYCARDPYGGGKSEFDYWGQGTLVTVSS']"
   ]
  },
  {
   "cell_type": "code",
   "execution_count": 12,
   "metadata": {},
   "outputs": [],
   "source": [
    "results = EasySearch(\n",
    "    raw_queries, \n",
    "    allowed_chain='Heavy',  \n",
    "    allowed_species='Human', \n",
    "    regions=['whole'],  \n",
    "    length_matched=[False], \n",
    ")"
   ]
  },
  {
   "cell_type": "code",
   "execution_count": 9,
   "metadata": {},
   "outputs": [],
   "source": [
    "medi8852 = \"QVQLQQSGPGLVKPSQTLSLTCAISGDSVSSYNAVWNWIRQSPSRGLEWLGRTYYRSGWYNDYAESVKSRITINPDTSKNQFSLQLNSVTPEDTAVYYCARSGHITVFGVNVDAFDMWGQGTMVTVSSASTKGPSVFPLAPSSKSTSGTAALGCLVKDYFPEPVTVSWNSGALTSGVHTFPAVLQSSGLYSLSSVVTVPSSSLGTQTYICNVNHKPSNTKVDKKVEP\""
   ]
  },
  {
   "cell_type": "code",
   "execution_count": 12,
   "metadata": {},
   "outputs": [],
   "source": [
    "query = \"EVQLLESGGGLVQPGGSLRLSCAASGFTFSSYAMSWVRQAPGKGLEWVSAISGSGGSTYYADSVKGRFTISRDNSKNTLYLQMNSLRAEDTAVYYCARNYYDSSGYITNFDYWGQGTLVTVSS\""
   ]
  },
  {
   "cell_type": "code",
   "execution_count": 13,
   "metadata": {},
   "outputs": [],
   "source": [
    "results = EasySearch(\n",
    "    query, \n",
    "    allowed_chain='Heavy',  \n",
    "    allowed_species='Human', \n",
    "    regions=['whole'],  \n",
    "    length_matched=[False], \n",
    ")"
   ]
  },
  {
   "cell_type": "code",
   "execution_count": null,
   "metadata": {},
   "outputs": [],
   "source": []
  }
 ],
 "metadata": {
  "kernelspec": {
   "display_name": "kasearch_env",
   "language": "python",
   "name": "python3"
  },
  "language_info": {
   "codemirror_mode": {
    "name": "ipython",
    "version": 3
   },
   "file_extension": ".py",
   "mimetype": "text/x-python",
   "name": "python",
   "nbconvert_exporter": "python",
   "pygments_lexer": "ipython3",
   "version": "3.8.20"
  }
 },
 "nbformat": 4,
 "nbformat_minor": 2
}
